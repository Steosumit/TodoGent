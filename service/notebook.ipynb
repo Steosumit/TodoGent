{
 "cells": [
  {
   "cell_type": "markdown",
   "metadata": {},
   "source": [
    "# Models for NLP Processing"
   ]
  },
  {
   "cell_type": "code",
   "execution_count": null,
   "metadata": {
    "ExecuteTime": {
     "end_time": "2025-04-12T21:22:37.021796Z",
     "start_time": "2025-04-12T21:22:35.873951Z"
    }
   },
   "outputs": [
    {
     "ename": "ModuleNotFoundError",
     "evalue": "No module named 'torch'",
     "output_type": "error",
     "traceback": [
      "\u001b[31m---------------------------------------------------------------------------\u001b[39m",
      "\u001b[31mModuleNotFoundError\u001b[39m                       Traceback (most recent call last)",
      "\u001b[36mCell\u001b[39m\u001b[36m \u001b[39m\u001b[32mIn[1]\u001b[39m\u001b[32m, line 2\u001b[39m\n\u001b[32m      1\u001b[39m \u001b[38;5;66;03m# This code is to control the input to the pretrained model\u001b[39;00m\n\u001b[32m----> \u001b[39m\u001b[32m2\u001b[39m \u001b[38;5;28;01mimport\u001b[39;00m\u001b[38;5;250m \u001b[39m\u001b[34;01mtorch\u001b[39;00m\n\u001b[32m      3\u001b[39m \u001b[38;5;28;01mfrom\u001b[39;00m\u001b[38;5;250m \u001b[39m\u001b[34;01mtransformers\u001b[39;00m\u001b[38;5;250m \u001b[39m\u001b[38;5;28;01mimport\u001b[39;00m pipeline\n",
      "\u001b[31mModuleNotFoundError\u001b[39m: No module named 'torch'"
     ]
    }
   ],
   "source": [
    "# This code is to control the input to the pretrained model\n",
    "import torch\n",
    "from transformers import pipeline\n",
    "from dotenv import load_dotenv\n",
    "import os\n",
    "\n",
    "# Load the environment variables from .env file\n",
    "load_dotenv()\n",
    "READ_TOKEN = os.getenv(\"READ_TOKEN\")\n",
    "WRITE_TOKEN = os.getenv(\"WRITE_TOKEN\") \n",
    "read_token = READ_TOKEN # Replace with your token \n",
    "write_token = WRITE_TOKEN # Replace with your token\n"
   ]
  },
  {
   "cell_type": "markdown",
   "metadata": {},
   "source": [
    "## Summarization"
   ]
  },
  {
   "cell_type": "code",
   "execution_count": null,
   "metadata": {},
   "outputs": [
    {
     "name": "stderr",
     "output_type": "stream",
     "text": [
      "Some parameters are on the meta device because they were offloaded to the cpu.\n",
      "Device set to use cuda:0\n"
     ]
    },
    {
     "name": "stdout",
     "output_type": "stream",
     "text": [
      "{'summary_text': 'I will go to park at 5am. i will finish homework and sleep at 10pm .'}\n"
     ]
    }
   ],
   "source": [
    "\n",
    "model_id = \"google-t5/t5-large\"\n",
    "\n",
    "pipe = pipeline(\"summarization\",\n",
    "                model = model_id,\n",
    "                torch_dtype = torch.bfloat16,\n",
    "                device_map = \"auto\",\n",
    "                token=read_token)\n",
    "\n",
    "text = \"\"\"\n",
    "I will go to park at 5am. I will finish homework and sleep at 10pm.\n",
    "\"\"\"\n",
    "\n",
    "outputs = pipe(\"summarization in bullet points :\" + text, max_length=30, min_length=5, do_sample=False)\n",
    "for output in outputs:\n",
    "    print(output)"
   ]
  },
  {
   "cell_type": "markdown",
   "metadata": {},
   "source": [
    "## Question-answering\n",
    "- Convert dates to number form in preprocessing steps"
   ]
  },
  {
   "cell_type": "code",
   "execution_count": null,
   "metadata": {},
   "outputs": [
    {
     "name": "stderr",
     "output_type": "stream",
     "text": [
      "No model was supplied, defaulted to distilbert/distilbert-base-cased-distilled-squad and revision 564e9b5 (https://huggingface.co/distilbert/distilbert-base-cased-distilled-squad).\n",
      "Using a pipeline without specifying a model name and revision in production is not recommended.\n",
      "Device set to use cuda:0\n"
     ]
    },
    {
     "data": {
      "text/plain": [
       "'Not Finished sleeping'"
      ]
     },
     "execution_count": 27,
     "metadata": {},
     "output_type": "execute_result"
    }
   ],
   "source": [
    "\n",
    "model_id = \"google-t5/t5-large\"\n",
    "\n",
    "pipe = pipeline(\"question-answering\",\n",
    "                token=read_token)\n",
    "\n",
    "ctx = \"\"\"\n",
    "- Finished homwork\n",
    "- Not Finished sleeping\n",
    "\n",
    "\n",
    "\"\"\"\n",
    "que = \"What are the tasks I have completed?\"\n",
    "\n",
    "Question_Answer_Obj = pipe(context=ctx, question=que)\n",
    "Question_Answer_Obj['answer']\n",
    "\n"
   ]
  },
  {
   "cell_type": "markdown",
   "metadata": {},
   "source": [
    "# Server Service"
   ]
  },
  {
   "cell_type": "code",
   "execution_count": null,
   "metadata": {},
   "outputs": [],
   "source": []
  }
 ],
 "metadata": {
  "kernelspec": {
   "display_name": "en",
   "language": "python",
   "name": "python3"
  },
  "language_info": {
   "codemirror_mode": {
    "name": "ipython",
    "version": 3
   },
   "file_extension": ".py",
   "mimetype": "text/x-python",
   "name": "python",
   "nbconvert_exporter": "python",
   "pygments_lexer": "ipython3",
   "version": "3.13.3"
  }
 },
 "nbformat": 4,
 "nbformat_minor": 2
}
